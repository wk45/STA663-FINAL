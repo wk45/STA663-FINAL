{
 "cells": [
  {
   "cell_type": "code",
   "execution_count": 1,
   "metadata": {
    "collapsed": false
   },
   "outputs": [],
   "source": [
    "import numpy as np\n",
    "import matplotlib.pyplot as plt"
   ]
  },
  {
   "cell_type": "markdown",
   "metadata": {},
   "source": [
    "## Generate binary classification data with $p(x=1) = \\frac{1}{1+e^{25.-0.5x}}$"
   ]
  },
  {
   "cell_type": "code",
   "execution_count": 2,
   "metadata": {
    "collapsed": false,
    "scrolled": false
   },
   "outputs": [
    {
     "data": {
      "text/plain": [
       "[<matplotlib.lines.Line2D at 0x7f743a1bf668>]"
      ]
     },
     "execution_count": 2,
     "metadata": {},
     "output_type": "execute_result"
    },
    {
     "data": {
      "image/png": "[encoded data removed]",
      "text/plain": [
       "<matplotlib.figure.Figure at 0x7f74256cb0b8>"
      ]
     },
     "metadata": {},
     "output_type": "display_data"
    }
   ],
   "source": [
    "xi = 0.0\n",
    "xf = 100.0\n",
    "n = 10000\n",
    "\n",
    "def logistic(beta,x):\n",
    "    x = np.c_[np.ones_like(x), x]\n",
    "    beta_x = (beta*x).sum(axis=1)  + np.random.randn(x.shape[0]) * 0.3\n",
    "    return 1./(1. + np.exp(-beta_x))\n",
    "\n",
    "beta = np.array([-25.,0.5])\n",
    "\n",
    "x = np.linspace(xi,xf,n)\n",
    "\n",
    "p = logistic(beta, x)\n",
    "\n",
    "y = np.zeros_like(x)\n",
    "for i in range(len(x)):\n",
    "    if np.random.random() < p[i]:\n",
    "        y[i] = 1.\n",
    "\n",
    "Data = np.c_[x,y]\n",
    "plt.scatter(x, y)\n",
    "plt.plot(x, p)"
   ]
  },
  {
   "cell_type": "code",
   "execution_count": null,
   "metadata": {
    "collapsed": true
   },
   "outputs": [],
   "source": []
  },
  {
   "cell_type": "markdown",
   "metadata": {},
   "source": [
    "Below, the $U(data, beta)$ is the potential energy. For logistic regression (binary, y = \\{0,1\\}), this is \n",
    "$$\\sum_{x,y \\in Data} log(1+e^{(-1)^y (\\beta_0 + \\beta_1 x_1 +\\cdots)}) $$, the $p(\\beta)$ is the prior distribution of $\\beta$.\n",
    "\n",
    "$gradU\\_exact(data, beta)$ is the gradient of the potential energy. \n",
    "$$\\frac{\\partial U(\\beta)}{\\partial \\beta_i} = \\sum_{x,y \\in Data} \\frac{(-1)^y x_i }{1+e^{(-1)^{y+1} (\\beta_0 + \\beta_1 x_1 +\\cdots)}} $$\n",
    "\n",
    "$gradU\\_SG(data, beta)$ uses only minibatch of the total data to compute the summation appearing in the gradient, plus a normal noise.\n",
    "\n",
    "Here we are just using a uniform prior, i.e. $log(\\beta) = 0$"
   ]
  },
  {
   "cell_type": "code",
   "execution_count": 3,
   "metadata": {
    "collapsed": true
   },
   "outputs": [],
   "source": [
    "def U(data, beta):\n",
    "    dataX = data[:,:-1] \n",
    "    dataY = data[:,-1]\n",
    "    dataX = np.c_[np.ones_like(dataX[:,0]), dataX]\n",
    "    beta_X = (beta*dataX).sum(axis=1)\n",
    "    pdata = (np.log(1. + np.exp( ((-1.)**dataY) * beta_X) )).sum() \n",
    "    return pdata\n",
    "\n",
    "def gradU_exact(data, beta):\n",
    "    dataX = data[:,:-1] \n",
    "    dataY = data[:,-1]\n",
    "    dataX = np.c_[np.ones_like(dataX[:,0]), dataX]\n",
    "    beta_X = (beta*dataX).sum(axis=1)\n",
    "    \n",
    "    der_temp = ((-1.)**dataY)/(1. + (np.exp( ((-1.)**(dataY+1.)) * beta_X )) )\n",
    "    ddata = (der_temp[:, None] * dataX).sum(axis=0)\n",
    "    \n",
    "    \n",
    "    return ddata\n",
    "\n",
    "def gradU(data, minibatch, beta):\n",
    "    '''using minibatch of the original data to compute the gradient'''\n",
    "    \n",
    "    dataX = data[:,:-1] \n",
    "    dataY = data[:,-1]\n",
    "    dataX = np.c_[np.ones_like(dataX[:,0]), dataX]\n",
    "    beta_X = (beta*dataX).sum(axis=1)\n",
    "    \n",
    "    der_temp = ((-1.)**dataY)/(1. + (np.exp( ((-1.)**(dataY+1.)) * beta_X )) )\n",
    "    ddata = (der_temp[:, None] * dataX)\n",
    "    ##### using minibatch of the data #####\n",
    "    ddata = ddata[np.random.choice(ddata.shape[0], int(minibatch * ddata.shape[0]), replace=False),:].sum(axis=0) \n",
    "    #################################\n",
    "    \n",
    "    \n",
    "    return (1./minibatch)*ddata"
   ]
  },
  {
   "cell_type": "code",
   "execution_count": 4,
   "metadata": {
    "collapsed": true
   },
   "outputs": [],
   "source": [
    "import functools\n",
    "\n",
    "gradU_data = functools.partial(gradU, Data)\n",
    "\n",
    "U_data = functools.partial(U, Data)"
   ]
  },
  {
   "cell_type": "markdown",
   "metadata": {},
   "source": [
    "### Doing a MLE for comparison"
   ]
  },
  {
   "cell_type": "code",
   "execution_count": 5,
   "metadata": {
    "collapsed": false
   },
   "outputs": [
    {
     "data": {
      "text/plain": [
       "      fun: 668.2661040155622\n",
       " hess_inv: array([[  2.82465425e-05,  -3.84705795e-06],\n",
       "       [ -3.84705795e-06,   1.68678023e-06]])\n",
       "      jac: array([ 0.00010681,  0.00510406])\n",
       "  message: 'Desired error not necessarily achieved due to precision loss.'\n",
       "     nfev: 368\n",
       "      nit: 12\n",
       "     njev: 89\n",
       "   status: 2\n",
       "  success: False\n",
       "        x: array([-24.50905383,   0.49224874])"
      ]
     },
     "execution_count": 5,
     "metadata": {},
     "output_type": "execute_result"
    }
   ],
   "source": [
    "from scipy.optimize import minimize\n",
    "\n",
    "minimize(U_data, [-20., 0.4])"
   ]
  },
  {
   "cell_type": "code",
   "execution_count": null,
   "metadata": {
    "collapsed": true
   },
   "outputs": [],
   "source": []
  },
  {
   "cell_type": "code",
   "execution_count": null,
   "metadata": {
    "collapsed": true
   },
   "outputs": [],
   "source": []
  },
  {
   "cell_type": "markdown",
   "metadata": {},
   "source": [
    "## Using SGHMC"
   ]
  },
  {
   "cell_type": "code",
   "execution_count": 6,
   "metadata": {
    "collapsed": true
   },
   "outputs": [],
   "source": [
    "def sghmc_vectorNew(gradU, eta, L, alpha, x, V):\n",
    "    beta = 0.5 * V * eta\n",
    "    p = np.random.randn(len(x)) * np.sqrt( eta )\n",
    "    momentum = 1. - alpha\n",
    "    try:\n",
    "        sigma = np.sqrt( 2. * eta * (alpha-beta) )\n",
    "    except:\n",
    "        raise ValueError('eta too big')\n",
    "    for i in range(L):\n",
    "        p = p * momentum - gradU( x ) * eta + np.random.randn(len(p)) * sigma\n",
    "        x += p\n",
    "    return x.copy()"
   ]
  },
  {
   "cell_type": "code",
   "execution_count": 7,
   "metadata": {
    "collapsed": false
   },
   "outputs": [],
   "source": [
    "nsample = 10000\n",
    "minibatch = 0.1 # using 10% of the original data to compute gradient\n",
    "gradU_data_SGHMC = functools.partial(gradU_data, minibatch)\n",
    "\n",
    "V = 1./minibatch\n",
    "etaSGHMC = (0.001)**2\n",
    "alpha = 0.01\n",
    "L = 50"
   ]
  },
  {
   "cell_type": "code",
   "execution_count": 8,
   "metadata": {
    "collapsed": false
   },
   "outputs": [
    {
     "name": "stdout",
     "output_type": "stream",
     "text": [
      "CPU times: user 10min 19s, sys: 116 ms, total: 10min 19s\n",
      "Wall time: 10min 21s\n"
     ]
    }
   ],
   "source": [
    "%%time\n",
    "\n",
    "samplesSGHMC = []\n",
    "b = np.array([-1., 1])\n",
    "for i in range(nsample):\n",
    "    b = sghmc_vectorNew(gradU_data_SGHMC, etaSGHMC, L, alpha, b.copy(), V)\n",
    "    samplesSGHMC.append(b)\n"
   ]
  },
  {
   "cell_type": "code",
   "execution_count": 9,
   "metadata": {
    "collapsed": false
   },
   "outputs": [
    {
     "data": {
      "image/png": "[encoded data removed]",
      "text/plain": [
       "<matplotlib.figure.Figure at 0x7f7422217da0>"
      ]
     },
     "metadata": {},
     "output_type": "display_data"
    }
   ],
   "source": [
    "samplesSGHMC = np.array(samplesSGHMC)\n",
    "plt.plot(samplesSGHMC[:,0])\n",
    "pass"
   ]
  },
  {
   "cell_type": "code",
   "execution_count": 11,
   "metadata": {
    "collapsed": false
   },
   "outputs": [
    {
     "data": {
      "image/png": "[encoded data removed]",
      "text/plain": [
       "<matplotlib.figure.Figure at 0x7f741a6abb00>"
      ]
     },
     "metadata": {},
     "output_type": "display_data"
    }
   ],
   "source": [
    "plt.plot(samplesSGHMC[:,1])\n",
    "pass"
   ]
  },
  {
   "cell_type": "code",
   "execution_count": null,
   "metadata": {
    "collapsed": true
   },
   "outputs": [],
   "source": []
  },
  {
   "cell_type": "markdown",
   "metadata": {},
   "source": [
    "## Using HMC"
   ]
  },
  {
   "cell_type": "code",
   "execution_count": 15,
   "metadata": {
    "collapsed": true
   },
   "outputs": [],
   "source": [
    "def hmc_vector(U, gradU, m, dt, nstep, x, MH):\n",
    "    p = np.random.randn(len(x)) * np.sqrt(m)\n",
    "    oldX = x.copy()\n",
    "    oldEnergy = 0.5 * (1./m) * p.dot(p)  + U(x)\n",
    "    for i in range(nstep):\n",
    "        p -= gradU(x) * dt/2.\n",
    "        x +=  1./m * p * dt\n",
    "        p -= gradU(x) * dt/2.\n",
    "    newEnergy = 0.5 * (1./m) * p.dot(p)  + U(x)\n",
    "    \n",
    "    if MH and np.random.random() > np.exp(oldEnergy - newEnergy): # Metropolis-Hastings\n",
    "        x = oldX.copy()\n",
    "    return x.copy()"
   ]
  },
  {
   "cell_type": "code",
   "execution_count": 16,
   "metadata": {
    "collapsed": true
   },
   "outputs": [],
   "source": [
    "minibatch = 1.\n",
    "gradU_data_HMC = functools.partial(gradU_data, minibatch)\n",
    "\n",
    "nsample = 10000\n",
    "m = 1.\n",
    "dt = 0.001\n",
    "nstep = 50\n",
    "MH=False"
   ]
  },
  {
   "cell_type": "code",
   "execution_count": 17,
   "metadata": {
    "collapsed": false
   },
   "outputs": [
    {
     "name": "stderr",
     "output_type": "stream",
     "text": [
      "/opt/conda/lib/python3.5/site-packages/ipykernel/__main__.py:50: RuntimeWarning: overflow encountered in exp\n"
     ]
    },
    {
     "name": "stdout",
     "output_type": "stream",
     "text": [
      "CPU times: user 27min 4s, sys: 432 ms, total: 27min 5s\n",
      "Wall time: 27min 8s\n"
     ]
    }
   ],
   "source": [
    "%%time\n",
    "\n",
    "\n",
    "samplesHMC = []\n",
    "b = np.array([-1.,1.])\n",
    "for i in range(nsample):\n",
    "    b = hmc_vector( U_data, gradU_data_HMC, m, dt, nstep, b.copy(), MH )\n",
    "    samplesHMC.append(b)\n",
    "\n",
    "    "
   ]
  },
  {
   "cell_type": "code",
   "execution_count": 20,
   "metadata": {
    "collapsed": false
   },
   "outputs": [
    {
     "data": {
      "image/png": "[encoded data removed]",
      "text/plain": [
       "<matplotlib.figure.Figure at 0x7f7421ed4160>"
      ]
     },
     "metadata": {},
     "output_type": "display_data"
    }
   ],
   "source": [
    "samplesHMC = np.array(samplesHMC)\n",
    "plt.plot(samplesHMC[:,0])\n",
    "pass"
   ]
  },
  {
   "cell_type": "code",
   "execution_count": 21,
   "metadata": {
    "collapsed": false
   },
   "outputs": [
    {
     "data": {
      "image/png": "[encoded data removed]",
      "text/plain": [
       "<matplotlib.figure.Figure at 0x7f741d667240>"
      ]
     },
     "metadata": {},
     "output_type": "display_data"
    }
   ],
   "source": [
    "plt.plot(samplesHMC[:,1])\n",
    "plt.ylim(-0.5,3.)\n",
    "pass"
   ]
  },
  {
   "cell_type": "code",
   "execution_count": null,
   "metadata": {
    "collapsed": true
   },
   "outputs": [],
   "source": []
  }
 ],
 "metadata": {
  "kernelspec": {
   "display_name": "Python 3",
   "language": "python",
   "name": "python3"
  },
  "language_info": {
   "codemirror_mode": {
    "name": "ipython",
    "version": 3
   },
   "file_extension": ".py",
   "mimetype": "text/x-python",
   "name": "python",
   "nbconvert_exporter": "python",
   "pygments_lexer": "ipython3",
   "version": "3.5.2"
  }
 },
 "nbformat": 4,
 "nbformat_minor": 2
}
