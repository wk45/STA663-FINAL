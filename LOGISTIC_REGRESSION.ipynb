{
 "cells": [
  {
   "cell_type": "code",
   "execution_count": 1,
   "metadata": {
    "collapsed": false
   },
   "outputs": [],
   "source": [
    "import numpy as np\n",
    "import matplotlib.pyplot as plt\n",
    "import scipy.stats\n",
    "import pandas as pd"
   ]
  },
  {
   "cell_type": "code",
   "execution_count": 2,
   "metadata": {
    "collapsed": false,
    "scrolled": true
   },
   "outputs": [],
   "source": [
    "data = pd.read_csv('wpbc.data', header=None)"
   ]
  },
  {
   "cell_type": "code",
   "execution_count": 3,
   "metadata": {
    "collapsed": true
   },
   "outputs": [],
   "source": [
    "y = (data[1] == \"N\").astype(np.float64)\n",
    "X = np.array(data[[2,3,4,5,6]], np.float64)\n",
    "XX = X/np.mean(X,0)\n",
    "Sigma_beta = np.eye(5).astype(np.float64)"
   ]
  },
  {
   "cell_type": "code",
   "execution_count": 4,
   "metadata": {
    "collapsed": false
   },
   "outputs": [],
   "source": [
    "def U(theta, X, y, Sigma_beta):\n",
    "    a = 0\n",
    "    for i in range(len(y)):\n",
    "        a += (X[i] @ theta * y[i] - np.log(1+np.exp(X[i] @ theta)))\n",
    "    return -a + 0.5 * theta.T @ np.linalg.inv(Sigma_beta) @ theta"
   ]
  },
  {
   "cell_type": "code",
   "execution_count": 14,
   "metadata": {
    "collapsed": false
   },
   "outputs": [],
   "source": [
    "def gradU(theta, X, y, Sigma_beta):\n",
    "    a = 0\n",
    "    for i in range(len(y)):\n",
    "        a += (X[i] * y[i] - (X[i] * np.exp(X[i] @ theta)) / (1 + np.exp(X[i] @ theta)))\n",
    "    return -a + np.linalg.inv(Sigma_beta) @ theta"
   ]
  },
  {
   "cell_type": "markdown",
   "metadata": {},
   "source": [
    "## Function U and U_grad (vectorized)"
   ]
  },
  {
   "cell_type": "code",
   "execution_count": 8,
   "metadata": {
    "collapsed": true
   },
   "outputs": [],
   "source": [
    "def U(theta, X, y, Sigma_beta):\n",
    "    return (-np.sum(X @ theta * y - np.log(1+np.exp(X @ theta))) +\n",
    "            0.5 * theta.T @ np.linalg.inv(Sigma_beta) @ theta )"
   ]
  },
  {
   "cell_type": "code",
   "execution_count": 9,
   "metadata": {
    "collapsed": true
   },
   "outputs": [],
   "source": [
    "def gradU(theta, X, y, Sigma_beta):\n",
    "    return ( -(np.sum(X * y[:,None] - X * (np.exp(X @ theta) / (1 + np.exp(X @ theta)))[:,None] ,0)) +\n",
    "            np.linalg.inv(Sigma_beta) @ theta )"
   ]
  },
  {
   "cell_type": "code",
   "execution_count": 10,
   "metadata": {
    "collapsed": false
   },
   "outputs": [],
   "source": [
    "bb = np.array([0,0,0,0,0]).astype(np.float64)"
   ]
  },
  {
   "cell_type": "code",
   "execution_count": 11,
   "metadata": {
    "collapsed": true
   },
   "outputs": [],
   "source": [
    "def hmc_vector(U, gradU, m, dt, nstep, x, X, y, Sigma_beta):\n",
    "    mean = np.zeros_like(x)\n",
    "    p = np.random.multivariate_normal(mean, m)\n",
    "    oldX = x.copy()\n",
    "    oldEnergy = 0.5 * p.dot(np.linalg.solve(m, p))  + U(x, X, y, Sigma_beta)\n",
    "    for i in range(nstep):\n",
    "        p -= gradU(x, X, y, Sigma_beta) * dt/2.\n",
    "        x += np.linalg.solve(m, p) * dt\n",
    "        p -= gradU(x, X, y, Sigma_beta) * dt/2.\n",
    "    newEnergy = 0.5 * p.dot(np.linalg.solve(m, p))  + U(x, X, y, Sigma_beta)\n",
    "    if np.random.random() > np.exp(oldEnergy - newEnergy): # Metropolis-Hastings\n",
    "        x = oldX.copy()\n",
    "    return x.copy()"
   ]
  },
  {
   "cell_type": "code",
   "execution_count": null,
   "metadata": {
    "collapsed": true
   },
   "outputs": [],
   "source": []
  },
  {
   "cell_type": "code",
   "execution_count": 22,
   "metadata": {
    "collapsed": true
   },
   "outputs": [],
   "source": [
    "nsample = 8000\n",
    "m = np.eye(5)\n",
    "dt = 0.1\n",
    "nstep = 10"
   ]
  },
  {
   "cell_type": "code",
   "execution_count": 23,
   "metadata": {
    "collapsed": false
   },
   "outputs": [
    {
     "name": "stdout",
     "output_type": "stream",
     "text": [
      "0\n",
      "2000\n",
      "4000\n",
      "6000\n"
     ]
    }
   ],
   "source": [
    "samples = []\n",
    "bb = np.zeros_like(bb)\n",
    "for i in range(nsample):\n",
    "    if i % 2000  == 0: print(i)\n",
    "    bb = hmc_vector(U, gradU, m, dt, nstep, bb, XX, y, Sigma_beta)\n",
    "    samples.append(bb)"
   ]
  },
  {
   "cell_type": "code",
   "execution_count": 24,
   "metadata": {
    "collapsed": false
   },
   "outputs": [],
   "source": [
    "samples = np.array(samples)\n",
    "hmc_samples_mean = samples.mean(axis=0)"
   ]
  },
  {
   "cell_type": "code",
   "execution_count": 2,
   "metadata": {
    "collapsed": true
   },
   "outputs": [],
   "source": [
    "%load_ext rpy2.ipython"
   ]
  },
  {
   "cell_type": "code",
   "execution_count": null,
   "metadata": {
    "collapsed": true
   },
   "outputs": [],
   "source": [
    "%%R -i XX,y\n",
    "\n",
    "library(R2jags)\n",
    "dat = read.csv('wpbc.csv',header=F)\n",
    "\n",
    "\n",
    "jags_data = list(Y = y,\n",
    "                 X = XX,\n",
    "                 n = length(y),\n",
    "                 p = ncol(XX))\n",
    "\n",
    "jags.model = \"model {\n",
    "  \n",
    "  for (i in 1:n) {\n",
    "    logit(mu[i]) = inprod(X[i,], theta)\n",
    "    Y[i] ~ dbern(mu[i])\n",
    "  }\n",
    "  \n",
    "  for (j in 1:(p)){\n",
    "    theta[j] ~ dnorm(0,1)\n",
    "  }\n",
    "}\n",
    "\"\n",
    "\n",
    "parameters = \"theta\"\n",
    "\n",
    "jags_sim = jags(jags_data, inits=NULL, \n",
    "                parameters.to.save=parameters,\n",
    "                model.file=textConnection(jags.model),\n",
    "                n.iter=10000)\n",
    "\n",
    "jags_sim"
   ]
  },
  {
   "cell_type": "markdown",
   "metadata": {
    "collapsed": false
   },
   "source": [
    "```\n",
    "> jags_sim\n",
    "Inference for Bugs model at \"9\", fit using jags,\n",
    " 3 chains, each with 10000 iterations (first 5000 discarded), n.thin = 5\n",
    " n.sims = 3000 iterations saved\n",
    "         mu.vect sd.vect    2.5%     25%     50%     75%   97.5%  Rhat\n",
    "theta[1]   1.347   0.289   0.808   1.155   1.340   1.532   1.959 1.002\n",
    "theta[2]  -0.241   0.829  -1.868  -0.804  -0.240   0.299   1.382 1.001\n",
    "theta[3]   0.973   0.551  -0.089   0.588   0.962   1.324   2.091 1.002\n",
    "theta[4]  -0.220   0.841  -1.831  -0.777  -0.237   0.345   1.436 1.003\n",
    "theta[5]  -0.394   0.629  -1.662  -0.810  -0.399   0.036   0.831 1.002\n",
    "deviance 186.465   2.588 183.346 184.731 185.909 187.563 192.821 1.001\n",
    "         n.eff\n",
    "theta[1]  1800\n",
    "theta[2]  3000\n",
    "theta[3]  1500\n",
    "theta[4]   800\n",
    "theta[5]  1900\n",
    "deviance  3000\n",
    "```"
   ]
  },
  {
   "cell_type": "markdown",
   "metadata": {},
   "source": [
    "# SGHMC (new)"
   ]
  },
  {
   "cell_type": "code",
   "execution_count": 26,
   "metadata": {
    "collapsed": true
   },
   "outputs": [],
   "source": [
    "size = 0.8\n",
    "\n",
    "nsample = 10000\n",
    "V = 1\n",
    "etaSGHMC = 0.005\n",
    "alpha = 0.005\n",
    "L = 10\n",
    "\n",
    "s = XX.shape[0] / round(XX.shape[0]*size)\n",
    "idx = np.random.choice(XX.shape[0], round(XX.shape[0]*size),replace = False)\n",
    "Xb = XX[idx,:]\n",
    "yb = y[idx]"
   ]
  },
  {
   "cell_type": "code",
   "execution_count": 19,
   "metadata": {
    "collapsed": true
   },
   "outputs": [],
   "source": [
    "def sg_gradU(theta, X, y, Sigma_beta, size = size):\n",
    "    return s * ( -(np.sum(X * y[:,None] - X * (np.exp(X @ theta) / (1 + np.exp(X @ theta)))[:,None] ,0)) +\n",
    "            np.linalg.inv(Sigma_beta) @ theta )"
   ]
  },
  {
   "cell_type": "code",
   "execution_count": 20,
   "metadata": {
    "collapsed": true
   },
   "outputs": [],
   "source": [
    "def sghmc_vectorNew(gradU, eta, L, alpha, x, V, X, y, Sigma_beta):\n",
    "    beta = 0.5 * V * eta\n",
    "    p = np.random.randn(len(x)) * np.sqrt( eta )\n",
    "    momentum = 1. - alpha\n",
    "    try:\n",
    "        sigma = np.sqrt( 2. * eta * (alpha-beta) )\n",
    "    except:\n",
    "        print('eta too big')\n",
    "    for i in range(L):\n",
    "        p = p * momentum - gradU( x, X, y, Sigma_beta ) * eta + np.random.randn(len(p)) * sigma\n",
    "        x += p\n",
    "    return x.copy()"
   ]
  },
  {
   "cell_type": "code",
   "execution_count": 27,
   "metadata": {
    "collapsed": false
   },
   "outputs": [
    {
     "name": "stdout",
     "output_type": "stream",
     "text": [
      "0\n",
      "2000\n",
      "4000\n",
      "6000\n",
      "8000\n",
      "[ 1.43590126 -0.29365543  1.0785734  -0.42476049 -0.27494787]\n",
      "[ 1.3493357  -0.18826095  0.95655454 -0.23663678 -0.41348242]\n"
     ]
    }
   ],
   "source": [
    "samples = []\n",
    "bb = np.array([0,0,0,0,0]).astype(np.float64)\n",
    "for i in range(nsample):\n",
    "    if i % 2000  == 0: print(i)\n",
    "    bb = sghmc_vectorNew( sg_gradU, etaSGHMC, L, alpha, bb, V, Xb, yb, Sigma_beta )\n",
    "    samples.append(bb.copy())\n",
    "samples = np.array(samples)\n",
    "sg_samples_mean = np.mean(samples,0)\n",
    "print(sg_samples_mean)\n",
    "print(hmc_samples_mean)"
   ]
  },
  {
   "cell_type": "code",
   "execution_count": null,
   "metadata": {
    "collapsed": true
   },
   "outputs": [],
   "source": []
  }
 ],
 "metadata": {
  "kernelspec": {
   "display_name": "Python 3",
   "language": "python",
   "name": "python3"
  },
  "language_info": {
   "codemirror_mode": {
    "name": "ipython",
    "version": 3
   },
   "file_extension": ".py",
   "mimetype": "text/x-python",
   "name": "python",
   "nbconvert_exporter": "python",
   "pygments_lexer": "ipython3",
   "version": "3.5.2"
  }
 },
 "nbformat": 4,
 "nbformat_minor": 2
}
