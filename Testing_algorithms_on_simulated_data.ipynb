{
 "cells": [
  {
   "cell_type": "code",
   "execution_count": 18,
   "metadata": {
    "collapsed": false
   },
   "outputs": [],
   "source": [
    "import numpy as np\n",
    "import matplotlib.pyplot as plt"
   ]
  },
  {
   "cell_type": "markdown",
   "metadata": {},
   "source": [
    "## Generate binary classification data with $p(x=1) = \\frac{1}{1+e^{25.-0.5x}}$"
   ]
  },
  {
   "cell_type": "code",
   "execution_count": 19,
   "metadata": {
    "collapsed": false,
    "scrolled": false
   },
   "outputs": [
    {
     "data": {
      "text/plain": [
       "[<matplotlib.lines.Line2D at 0x7f26c7680f60>]"
      ]
     },
     "execution_count": 19,
     "metadata": {},
     "output_type": "execute_result"
    },
    {
     "data": {
      "image/png": "[encoded data removed]",
      "text/plain": [
       "<matplotlib.figure.Figure at 0x7f26c7680710>"
      ]
     },
     "metadata": {},
     "output_type": "display_data"
    }
   ],
   "source": [
    "xi = 0.0\n",
    "xf = 100.0\n",
    "n = 10000\n",
    "\n",
    "def logistic(beta,x):\n",
    "    x = np.c_[np.ones_like(x), x]\n",
    "    beta_x = (beta*x).sum(axis=1)  + np.random.randn(x.shape[0]) * 0.3\n",
    "    return 1./(1. + np.exp(-beta_x))\n",
    "\n",
    "beta = np.array([-25.,0.5])\n",
    "\n",
    "x = np.linspace(xi,xf,n)\n",
    "\n",
    "p = logistic(beta, x)\n",
    "\n",
    "y = np.zeros_like(x)\n",
    "for i in range(len(x)):\n",
    "    if np.random.random() < p[i]:\n",
    "        y[i] = 1.\n",
    "\n",
    "Data = np.c_[x,y]\n",
    "plt.scatter(x, y)\n",
    "plt.plot(x, p)"
   ]
  },
  {
   "cell_type": "code",
   "execution_count": null,
   "metadata": {
    "collapsed": true
   },
   "outputs": [],
   "source": []
  },
  {
   "cell_type": "markdown",
   "metadata": {},
   "source": [
    "Below, the $U(data, beta)$ is the potential energy. For logistic regression (binary, y = \\{0,1\\}), this is \n",
    "$$\\sum_{x,y \\in Data} log(1+e^{(-1)^y (\\beta_0 + \\beta_1 x_1 +\\cdots)}) - log p(\\mathbf{\\beta})$$, the $p(\\beta)$ is the prior distribution of $\\beta$.\n",
    "\n",
    "$gradU\\_exact(data, beta)$ is the gradient of the potential energy. \n",
    "$$\\frac{\\partial U(\\beta)}{\\partial \\beta_i} = \\sum_{x,y \\in Data} \\frac{(-1)^y x_i }{1+e^{(-1)^{y+1} (\\beta_0 + \\beta_1 x_1 +\\cdots)}} - \\frac{\\partial logp(\\beta)}{\\partial \\beta_i}$$\n",
    "\n",
    "$gradU\\_SG(data, beta)$ uses only minibatch of the total data to compute the summation appearing in the gradient, plus a normal noise.\n",
    "\n",
    "Here we are just using a uniform prior, i.e. $log(\\beta) = 0$"
   ]
  },
  {
   "cell_type": "code",
   "execution_count": 20,
   "metadata": {
    "collapsed": true
   },
   "outputs": [],
   "source": [
    "from scipy.stats import multivariate_normal\n",
    "# def U(data, beta):\n",
    "#     dataX = data[:,:-1] \n",
    "#     dataY = data[:,-1]\n",
    "#     dataX = np.c_[np.ones_like(dataX[:,0]), dataX]\n",
    "#     beta_X = (beta*dataX).sum(axis=1)\n",
    "#     pdata = (np.log(1. + np.exp( ((-1.)**dataY) * beta_X) )).sum() #log(p(data|beta)\n",
    "\n",
    "#     mu = np.ones_like(beta)\n",
    "#     sigma = np.eye(len(beta))\n",
    "#     prior = -np.log(multivariate_normal.pdf(beta, mean=mu, cov=sigma) ) # prior distribution \n",
    "#     return pdata+prior\n",
    "\n",
    "\n",
    "def U(data, beta):\n",
    "    dataX = data[:,:-1] \n",
    "    dataY = data[:,-1]\n",
    "    dataX = np.c_[np.ones_like(dataX[:,0]), dataX]\n",
    "    beta_X = (beta*dataX).sum(axis=1)\n",
    "    pdata = (np.log(1. + np.exp( ((-1.)**dataY) * beta_X) )).sum() #log(p(data|beta)\n",
    "    \n",
    "    #mu = np.zeros_like(beta)\n",
    "    #sigma = np.eye(len(beta))    \n",
    "    #prior =  0.5 * (beta-mu).dot(np.linalg.solve(sigma, beta-mu))#  log of prior distribution , discarding constant\n",
    "    return pdata#+prior\n",
    "\n",
    "def gradU_exact(data, beta):\n",
    "    dataX = data[:,:-1] \n",
    "    dataY = data[:,-1]\n",
    "    dataX = np.c_[np.ones_like(dataX[:,0]), dataX]\n",
    "    beta_X = (beta*dataX).sum(axis=1)\n",
    "    \n",
    "    der_temp = ((-1.)**dataY)/(1. + (np.exp( ((-1.)**(dataY+1.)) * beta_X )) )\n",
    "    ddata = (der_temp[:, None] * dataX).sum(axis=0)\n",
    "    \n",
    "    #mu = np.zeros_like(beta)\n",
    "    #sigma = np.eye(len(beta))\n",
    "    #dprior = np.linalg.solve(sigma, beta - mu)\n",
    "    \n",
    "    return ddata#+dprior\n",
    "\n",
    "def gradU(data, minibatch, beta):\n",
    "    '''using minibatch of the original data to compute the gradient'''\n",
    "    \n",
    "    dataX = data[:,:-1] \n",
    "    dataY = data[:,-1]\n",
    "    dataX = np.c_[np.ones_like(dataX[:,0]), dataX]\n",
    "    beta_X = (beta*dataX).sum(axis=1)\n",
    "    \n",
    "    der_temp = ((-1.)**dataY)/(1. + (np.exp( ((-1.)**(dataY+1.)) * beta_X )) )\n",
    "    ddata = (der_temp[:, None] * dataX)\n",
    "    ##### using minibatch of the data #####\n",
    "    ddata = ddata[np.random.choice(ddata.shape[0], int(minibatch * ddata.shape[0]), replace=False),:].sum(axis=0) \n",
    "    #################################\n",
    "    \n",
    "    #mu = np.zeros_like(beta)\n",
    "    #sigma = np.eye(len(beta))\n",
    "    #dprior = np.linalg.solve(sigma, beta - mu)\n",
    "    \n",
    "    return (1./minibatch)*ddata#+dprior  #minibatch"
   ]
  },
  {
   "cell_type": "code",
   "execution_count": 21,
   "metadata": {
    "collapsed": true
   },
   "outputs": [],
   "source": [
    "import functools\n",
    "\n",
    "gradU_data = functools.partial(gradU, Data)\n",
    "\n",
    "U_data = functools.partial(U, Data)"
   ]
  },
  {
   "cell_type": "markdown",
   "metadata": {},
   "source": [
    "### Doing a MLE for comparison"
   ]
  },
  {
   "cell_type": "code",
   "execution_count": 22,
   "metadata": {
    "collapsed": false
   },
   "outputs": [
    {
     "data": {
      "text/plain": [
       "      fun: 689.3915115175174\n",
       " hess_inv: array([[  8.16742953e-01,  -1.63183353e-02],\n",
       "       [ -1.63183353e-02,   3.27947552e-04]])\n",
       "      jac: array([  7.62939453e-06,  -7.62939453e-06])\n",
       "  message: 'Optimization terminated successfully.'\n",
       "     nfev: 48\n",
       "      nit: 9\n",
       "     njev: 12\n",
       "   status: 0\n",
       "  success: True\n",
       "        x: array([-23.77231998,   0.47716436])"
      ]
     },
     "execution_count": 22,
     "metadata": {},
     "output_type": "execute_result"
    }
   ],
   "source": [
    "from scipy.optimize import minimize\n",
    "\n",
    "minimize(U_data, [-20., 0.4])"
   ]
  },
  {
   "cell_type": "code",
   "execution_count": null,
   "metadata": {
    "collapsed": true
   },
   "outputs": [],
   "source": []
  },
  {
   "cell_type": "code",
   "execution_count": null,
   "metadata": {
    "collapsed": true
   },
   "outputs": [],
   "source": []
  },
  {
   "cell_type": "markdown",
   "metadata": {},
   "source": [
    "## Using SGHMC"
   ]
  },
  {
   "cell_type": "code",
   "execution_count": 23,
   "metadata": {
    "collapsed": true
   },
   "outputs": [],
   "source": [
    "def sghmc_vectorNew(gradU, eta, L, alpha, x, V):\n",
    "    beta = 0.5 * V * eta\n",
    "    p = np.random.randn(len(x)) * np.sqrt( eta )\n",
    "    momentum = 1. - alpha\n",
    "    try:\n",
    "        sigma = np.sqrt( 2. * eta * (alpha-beta) )\n",
    "    except:\n",
    "        print('eta too big')\n",
    "    for i in range(L):\n",
    "        p = p * momentum - gradU( x ) * eta + np.random.randn(len(p)) * sigma\n",
    "        x += p\n",
    "    return x.copy()"
   ]
  },
  {
   "cell_type": "code",
   "execution_count": 25,
   "metadata": {
    "collapsed": false
   },
   "outputs": [],
   "source": [
    "nsample = 10000\n",
    "minibatch = 0.1 # using 10% of the original data to compute gradient\n",
    "gradU_data_SGHMC = functools.partial(gradU_data, minibatch)\n",
    "\n",
    "V = 1./minibatch\n",
    "etaSGHMC = (0.001)**2\n",
    "alpha = 0.01\n",
    "L = 50"
   ]
  },
  {
   "cell_type": "code",
   "execution_count": 26,
   "metadata": {
    "collapsed": false
   },
   "outputs": [
    {
     "name": "stdout",
     "output_type": "stream",
     "text": [
      "0 [-3.5459978   1.47770221]\n",
      "1000 [-24.42884407   0.53649363]\n",
      "2000 [-25.26935268   0.5063979 ]\n",
      "3000 [-26.112934     0.53595444]\n",
      "4000 [-25.14404289   0.49370524]\n",
      "5000 [-24.34667054   0.4820687 ]\n",
      "6000 [-25.41977562   0.52384874]\n",
      "7000 [-28.21438839   0.53650274]\n",
      "8000 [-28.31941835   0.57887361]\n",
      "9000 [-27.16010792   0.54865117]\n"
     ]
    }
   ],
   "source": [
    "samples = []\n",
    "b = np.array([-1., 1])\n",
    "for i in range(nsample):\n",
    "    b = sghmc_vectorNew(gradU_data_SGHMC, etaSGHMC, L, alpha, b.copy(), V)\n",
    "    samples.append(b)\n",
    "    if i%1000 == 0:\n",
    "        print(i, b)"
   ]
  },
  {
   "cell_type": "code",
   "execution_count": 27,
   "metadata": {
    "collapsed": false
   },
   "outputs": [
    {
     "data": {
      "text/plain": [
       "(array([  280.,   771.,  1201.,   803.,   463.,   655.,   869.,  1574.,\n",
       "         1061.,   323.]),\n",
       " array([-29.58395625, -29.01339958, -28.44284292, -27.87228626,\n",
       "        -27.3017296 , -26.73117294, -26.16061627, -25.59005961,\n",
       "        -25.01950295, -24.44894629, -23.87838962]),\n",
       " <a list of 10 Patch objects>)"
      ]
     },
     "execution_count": 27,
     "metadata": {},
     "output_type": "execute_result"
    },
    {
     "data": {
      "image/png": "[encoded data removed]",
      "text/plain": [
       "<matplotlib.figure.Figure at 0x7f26c8f6ff60>"
      ]
     },
     "metadata": {},
     "output_type": "display_data"
    }
   ],
   "source": [
    "samples = np.array(samples)\n",
    "plt.hist(samples[2000:,0])"
   ]
  },
  {
   "cell_type": "code",
   "execution_count": 28,
   "metadata": {
    "collapsed": false
   },
   "outputs": [
    {
     "data": {
      "text/plain": [
       "(array([  1.40000000e+01,   2.31000000e+02,   1.44800000e+03,\n",
       "          2.29000000e+03,   1.67500000e+03,   1.31400000e+03,\n",
       "          8.28000000e+02,   1.77000000e+02,   2.10000000e+01,\n",
       "          2.00000000e+00]),\n",
       " array([ 0.42704589,  0.4525059 ,  0.4779659 ,  0.50342591,  0.52888592,\n",
       "         0.55434593,  0.57980594,  0.60526595,  0.63072596,  0.65618596,\n",
       "         0.68164597]),\n",
       " <a list of 10 Patch objects>)"
      ]
     },
     "execution_count": 28,
     "metadata": {},
     "output_type": "execute_result"
    },
    {
     "data": {
      "image/png": "[encoded data removed]",
      "text/plain": [
       "<matplotlib.figure.Figure at 0x7f26cedfff98>"
      ]
     },
     "metadata": {},
     "output_type": "display_data"
    }
   ],
   "source": [
    "plt.hist(samples[2000:,1])"
   ]
  },
  {
   "cell_type": "code",
   "execution_count": null,
   "metadata": {
    "collapsed": true
   },
   "outputs": [],
   "source": []
  },
  {
   "cell_type": "markdown",
   "metadata": {},
   "source": [
    "## Using HMC"
   ]
  },
  {
   "cell_type": "code",
   "execution_count": 29,
   "metadata": {
    "collapsed": true
   },
   "outputs": [],
   "source": [
    "def hmc_vector(U, gradU, m, dt, nstep, x, MH):\n",
    "    p = np.random.randn(len(x)) * np.sqrt(m)\n",
    "    oldX = x.copy()\n",
    "    oldEnergy = 0.5 * (1./m) * p.dot(p)  + U(x)\n",
    "    for i in range(nstep):\n",
    "        p -= gradU(x) * dt/2.\n",
    "        x +=  1./m * p * dt\n",
    "        p -= gradU(x) * dt/2.\n",
    "    newEnergy = 0.5 * (1./m) * p.dot(p)  + U(x)\n",
    "    \n",
    "    if MH and np.random.random() > np.exp(oldEnergy - newEnergy): # Metropolis-Hastings\n",
    "        x = oldX.copy()\n",
    "    return x.copy()"
   ]
  },
  {
   "cell_type": "code",
   "execution_count": 32,
   "metadata": {
    "collapsed": true
   },
   "outputs": [],
   "source": [
    "minibatch = 1.\n",
    "gradU_data_HMC = functools.partial(gradU_data, minibatch)\n",
    "\n",
    "nsample = 10000\n",
    "m = 1.\n",
    "dt = 0.001\n",
    "nstep = 50\n",
    "MH=False"
   ]
  },
  {
   "cell_type": "code",
   "execution_count": 33,
   "metadata": {
    "collapsed": false
   },
   "outputs": [
    {
     "name": "stdout",
     "output_type": "stream",
     "text": [
      "0 [-3.89937556  1.28398669]\n",
      "1000 [-23.38818706   0.46700338]\n",
      "2000 [-23.78577949   0.47689119]\n",
      "3000 [-24.18051766   0.4834413 ]\n",
      "4000 [-23.51425315   0.47196913]\n",
      "5000 [-24.23170423   0.48843726]\n",
      "6000 [-23.51786664   0.47087204]\n",
      "7000 [-23.61017064   0.47301105]\n",
      "8000 [-22.71697148   0.45535705]\n",
      "9000 [-23.4280992    0.46876763]\n"
     ]
    }
   ],
   "source": [
    "samples = []\n",
    "b = np.array([-1.,1.])\n",
    "for i in range(nsample):\n",
    "    b = hmc_vector( U_data, gradU_data_HMC, m, dt, nstep, b.copy(), MH )\n",
    "    samples.append(b)\n",
    "    if i%1000 == 0:\n",
    "        print(i, b)\n",
    "    "
   ]
  },
  {
   "cell_type": "code",
   "execution_count": 34,
   "metadata": {
    "collapsed": false
   },
   "outputs": [
    {
     "data": {
      "text/plain": [
       "(array([   88.,   375.,   805.,  1326.,  1447.,  1529.,  1224.,   733.,\n",
       "          385.,    88.]),\n",
       " array([-25.33436627, -25.0184884 , -24.70261052, -24.38673265,\n",
       "        -24.07085477, -23.75497689, -23.43909902, -23.12322114,\n",
       "        -22.80734327, -22.49146539, -22.17558751]),\n",
       " <a list of 10 Patch objects>)"
      ]
     },
     "execution_count": 34,
     "metadata": {},
     "output_type": "execute_result"
    },
    {
     "data": {
      "image/png": "[encoded data removed]",
      "text/plain": [
       "<matplotlib.figure.Figure at 0x7f26c75b3588>"
      ]
     },
     "metadata": {},
     "output_type": "display_data"
    }
   ],
   "source": [
    "samples = np.array(samples)\n",
    "plt.hist(samples[2000:,0])"
   ]
  },
  {
   "cell_type": "code",
   "execution_count": 35,
   "metadata": {
    "collapsed": false
   },
   "outputs": [
    {
     "data": {
      "text/plain": [
       "(array([   96.,   398.,   725.,  1319.,  1489.,  1470.,  1330.,   760.,\n",
       "          348.,    65.]),\n",
       " array([ 0.44504146,  0.45146056,  0.45787965,  0.46429875,  0.47071784,\n",
       "         0.47713694,  0.48355603,  0.48997513,  0.49639422,  0.50281332,\n",
       "         0.50923242]),\n",
       " <a list of 10 Patch objects>)"
      ]
     },
     "execution_count": 35,
     "metadata": {},
     "output_type": "execute_result"
    },
    {
     "data": {
      "image/png": "[encoded data removed]",
      "text/plain": [
       "<matplotlib.figure.Figure at 0x7f26c76e39e8>"
      ]
     },
     "metadata": {},
     "output_type": "display_data"
    }
   ],
   "source": [
    "plt.hist(samples[2000:,1])"
   ]
  },
  {
   "cell_type": "code",
   "execution_count": 71,
   "metadata": {
    "collapsed": false
   },
   "outputs": [
    {
     "data": {
      "text/plain": [
       "array([1, 2])"
      ]
     },
     "execution_count": 71,
     "metadata": {},
     "output_type": "execute_result"
    }
   ],
   "source": []
  },
  {
   "cell_type": "code",
   "execution_count": null,
   "metadata": {
    "collapsed": true
   },
   "outputs": [],
   "source": []
  }
 ],
 "metadata": {
  "kernelspec": {
   "display_name": "Python 3",
   "language": "python",
   "name": "python3"
  },
  "language_info": {
   "codemirror_mode": {
    "name": "ipython",
    "version": 3
   },
   "file_extension": ".py",
   "mimetype": "text/x-python",
   "name": "python",
   "nbconvert_exporter": "python",
   "pygments_lexer": "ipython3",
   "version": "3.5.2"
  }
 },
 "nbformat": 4,
 "nbformat_minor": 2
}
