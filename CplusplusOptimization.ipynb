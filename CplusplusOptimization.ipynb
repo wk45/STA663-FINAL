{
 "cells": [
  {
   "cell_type": "markdown",
   "metadata": {},
   "source": [
    "# Making it faster"
   ]
  },
  {
   "cell_type": "markdown",
   "metadata": {},
   "source": [
    "## I think since SGHMC, and HMC sampling algorithms depend on the input function U, it is very hard to do general optimizaition, plus I think the most time-consuming part is actually the computation of U and gradient of U. Thus I think it is better to do problem-specific optimization, meaning that we optimize U for different problems. Here I will try to optimize U specifically for Bayesian logistic regression"
   ]
  },
  {
   "cell_type": "markdown",
   "metadata": {},
   "source": [
    "## Again using the simulated data sets \n",
    "## Generate binary classification data with $p(x=1) = \\frac{1}{1+e^{25.-0.5x}}$"
   ]
  },
  {
   "cell_type": "code",
   "execution_count": 2,
   "metadata": {
    "collapsed": false
   },
   "outputs": [],
   "source": [
    "import numpy as np\n",
    "import matplotlib.pyplot as plt\n",
    "import numba\n",
    "from numba import jit, vectorize, float64, int64"
   ]
  },
  {
   "cell_type": "code",
   "execution_count": 3,
   "metadata": {
    "collapsed": false
   },
   "outputs": [
    {
     "data": {
      "text/plain": [
       "[<matplotlib.lines.Line2D at 0x7fac1eb76a90>]"
      ]
     },
     "execution_count": 3,
     "metadata": {},
     "output_type": "execute_result"
    },
    {
     "data": {
      "image/png": "[encoded data removed]",
      "text/plain": [
       "<matplotlib.figure.Figure at 0x7fac1e7214a8>"
      ]
     },
     "metadata": {},
     "output_type": "display_data"
    }
   ],
   "source": [
    "xi = 0.0\n",
    "xf = 100.0\n",
    "n = 10000\n",
    "\n",
    "def logistic(beta,x):\n",
    "    x = np.c_[np.ones_like(x), x]\n",
    "    beta_x = (beta*x).sum(axis=1)  + np.random.randn(x.shape[0]) * 0.3\n",
    "    return 1./(1. + np.exp(-beta_x))\n",
    "\n",
    "beta = np.array([-25.,0.5])\n",
    "\n",
    "x = np.linspace(xi,xf,n)\n",
    "\n",
    "p = logistic(beta, x)\n",
    "\n",
    "y = np.zeros_like(x)\n",
    "for i in range(len(x)):\n",
    "    if np.random.random() < p[i]:\n",
    "        y[i] = 1.\n",
    "\n",
    "Data = np.c_[x,y]\n",
    "plt.scatter(x, y)\n",
    "plt.plot(x, p)"
   ]
  },
  {
   "cell_type": "markdown",
   "metadata": {},
   "source": [
    "### data should be grouped in such a way that the last column is the y values, and other columns corresponds to the x's.\n",
    "\n",
    "Below, the $U(data, beta)$ is the potential energy. For logistic regression (binary, y = \\{0,1\\}), this is \n",
    "$$\\sum_{x,y \\in Data} log(1+e^{(-1)^y (\\beta_0 + \\beta_1 x_1 +\\cdots)}) $$, the $p(\\beta)$ is the prior distribution of $\\beta$. THIS MODEL ASSUMES THAT $\\beta_0$ IS NOT 0!!!SO IT HAS TO BE MODIFIED OTHERWISE\n",
    "\n",
    "$gradU\\_exact(data, beta)$ is the gradient of the potential energy. \n",
    "$$\\frac{\\partial U(\\beta)}{\\partial \\beta_i} = \\sum_{x,y \\in Data} \\frac{(-1)^y x_i }{1+e^{(-1)^{y+1} (\\beta_0 + \\beta_1 x_1 +\\cdots)}} $$\n",
    "\n",
    "$gradU\\_SG(data, beta)$ uses only minibatch of the total data to compute the summation appearing in the gradient, plus a normal noise.\n",
    "\n",
    "Here we are just using a uniform prior, i.e. $logp(\\beta) = 0$"
   ]
  },
  {
   "cell_type": "code",
   "execution_count": 4,
   "metadata": {
    "collapsed": true
   },
   "outputs": [],
   "source": [
    "def U(data, beta):\n",
    "    dataX = data[:,:-1] \n",
    "    dataY = data[:,-1]\n",
    "    dataX = np.c_[np.ones_like(dataX[:,0]), dataX]\n",
    "    beta_X = (beta*dataX).sum(axis=1)\n",
    "    pdata = (np.log(1. + np.exp( ((-1.)**dataY) * beta_X) )).sum() \n",
    "    return pdata\n",
    "\n",
    "def gradU_exact(data, beta):\n",
    "    dataX = data[:,:-1] \n",
    "    dataY = data[:,-1]\n",
    "    dataX = np.c_[np.ones_like(dataX[:,0]), dataX]\n",
    "    beta_X = (beta*dataX).sum(axis=1)\n",
    "    \n",
    "    der_temp = ((-1.)**dataY)/(1. + (np.exp( ((-1.)**(dataY+1.)) * beta_X )) )\n",
    "    ddata = (der_temp[:, None] * dataX).sum(axis=0)\n",
    "\n",
    "    \n",
    "    return ddata\n",
    "\n",
    "def gradU(data, minibatch, beta):\n",
    "    '''using minibatch of the original data to compute the gradient'''\n",
    "    \n",
    "    dataX = data[:,:-1] \n",
    "    dataY = data[:,-1]\n",
    "    dataX = np.c_[np.ones_like(dataX[:,0]), dataX]\n",
    "    beta_X = (beta*dataX).sum(axis=1)\n",
    "    \n",
    "    der_temp = ((-1.)**dataY)/(1. + (np.exp( ((-1.)**(dataY+1.)) * beta_X )) )\n",
    "    ddata = (der_temp[:, None] * dataX)\n",
    "    ##### using minibatch of the data #####\n",
    "    ddata = ddata[np.random.choice(ddata.shape[0], int(minibatch * ddata.shape[0]), replace=False),:].sum(axis=0) \n",
    "    #################################\n",
    "    \n",
    "    \n",
    "    return (1./minibatch)*ddata"
   ]
  },
  {
   "cell_type": "code",
   "execution_count": 6,
   "metadata": {
    "collapsed": false
   },
   "outputs": [
    {
     "name": "stdout",
     "output_type": "stream",
     "text": [
      "Overwriting wrap_U.cpp\n"
     ]
    }
   ],
   "source": [
    "%%file wrap_U.cpp\n",
    "<%\n",
    "cfg['compiler_args'] = ['-std=c++11']\n",
    "cfg['include_dirs'] = ['eigen']\n",
    "setup_pybind11(cfg)\n",
    "%>\n",
    "\n",
    "// use different path or git clone https://github.com/RLovelett/eigen.git\n",
    "\n",
    "#include <pybind11/pybind11.h>\n",
    "#include <pybind11/eigen.h>\n",
    "\n",
    "#include <Eigen/LU>\n",
    "#include <Eigen/Dense>\n",
    "\n",
    "#include <vector>\n",
    "#include <random>\n",
    "\n",
    "#include \"eigenmvn.h\"\n",
    "\n",
    "namespace py = pybind11;\n",
    "\n",
    "\n",
    "double U_c(Eigen::MatrixXd data, Eigen::VectorXd beta) {\n",
    "    Eigen::MatrixXd dataX = Eigen::MatrixXd::Ones(data.rows(), data.cols());\n",
    "    for (int i =0; i< dataX.cols()-1; i++){\n",
    "          dataX.col(i+1) = data.col(i);      \n",
    "    }\n",
    "    \n",
    "    Eigen::VectorXd dataY;\n",
    "    dataY = data.col(data.cols()-1);\n",
    "    \n",
    "    Eigen::VectorXd beta_X = dataX * beta;\n",
    "    \n",
    "    Eigen::VectorXd denom = 1. + beta_X.array().exp();\n",
    "    denom = -1.*denom.array().log();\n",
    "    \n",
    "    Eigen::VectorXd numer = (dataY.array()) * (beta_X.array());\n",
    "    \n",
    "    double sum = (numer.sum() + denom.sum());\n",
    "    \n",
    "    return -1.*sum;\n",
    "    \n",
    "}\n",
    "\n",
    "\n",
    "Eigen::VectorXd gradU_c(Eigen::MatrixXd data, double minibatch, Eigen::VectorXd beta){\n",
    "    Eigen::MatrixXd dataX = Eigen::MatrixXd::Ones(data.rows(), data.cols());\n",
    "    for (int i =0; i< dataX.cols()-1; i++){\n",
    "          dataX.col(i+1) = data.col(i);      \n",
    "    }\n",
    "    \n",
    "    Eigen::VectorXd dataY;\n",
    "    dataY = data.col(data.cols()-1);\n",
    "    \n",
    "    Eigen::VectorXd beta_X = dataX * beta;\n",
    "    \n",
    "    Eigen::VectorXd beta_X_exp = beta_X.array().exp();\n",
    "    Eigen::VectorXd denom = 1. + beta_X_exp.array();\n",
    "            \n",
    "    Eigen::VectorXd der_temp =  dataY.array() - beta_X_exp.array()/denom.array();\n",
    "            \n",
    "    Eigen::MatrixXd der = Eigen::MatrixXd::Zero(int(minibatch * dataX.rows()), dataX.cols());\n",
    "            \n",
    "    std::vector<int> set(data.rows());\n",
    "    for(int i=0; i<int(set.size()); ++i){\n",
    "        set[i] = i;\n",
    "    }\n",
    "    //randomly select rows\n",
    "    std::random_device rd;\n",
    "    std::mt19937 randomizer(rd());\n",
    "    std::shuffle(set.begin(), set.end(), randomizer);\n",
    "    set.resize( int(minibatch * data.rows()) );        \n",
    "            \n",
    "    for(int i=0; i<int(set.size()); ++i){\n",
    "        der.row(i) = dataX.row(set[i]) * der_temp(set[i]);\n",
    "    }\n",
    "            \n",
    "    return (-1./minibatch) * der.colwise().sum();\n",
    "            \n",
    "}\n",
    "\n",
    "\n",
    "PYBIND11_PLUGIN(wrap_U) {\n",
    "    pybind11::module m(\"wrap_U\", \"auto-compiled c++ extension\");\n",
    "    m.def(\"U_c\", &U_c);\n",
    "    m.def(\"gradU_c\", &gradU_c);\n",
    "    return m.ptr();\n",
    "}"
   ]
  },
  {
   "cell_type": "code",
   "execution_count": 7,
   "metadata": {
    "collapsed": true
   },
   "outputs": [],
   "source": [
    "import cppimport\n",
    "import numpy as np\n",
    "\n",
    "code = cppimport.imp(\"wrap_U\")\n",
    "\n"
   ]
  },
  {
   "cell_type": "code",
   "execution_count": 8,
   "metadata": {
    "collapsed": false
   },
   "outputs": [],
   "source": [
    "import functools\n",
    "\n",
    "gradU_data = functools.partial(gradU, Data)\n",
    "U_data = functools.partial(U, Data)\n",
    "\n",
    "\n",
    "gradU_c_data = functools.partial(code.gradU_c, Data)\n",
    "U_c_data = functools.partial(code.U_c, Data)\n"
   ]
  },
  {
   "cell_type": "markdown",
   "metadata": {},
   "source": [
    "### SGHMC"
   ]
  },
  {
   "cell_type": "code",
   "execution_count": 9,
   "metadata": {
    "collapsed": true
   },
   "outputs": [],
   "source": [
    "def sghmc_vectorNew(gradU, eta, L, alpha, x, V):\n",
    "    beta = 0.5 * V * eta\n",
    "    p = np.random.randn(len(x)) * np.sqrt( eta )\n",
    "    momentum = 1. - alpha\n",
    "    try:\n",
    "        sigma = np.sqrt( 2. * eta * (alpha-beta) )\n",
    "    except:\n",
    "        print('eta too big')\n",
    "    for i in range(L):\n",
    "        p = p * momentum - gradU( x ) * eta + np.random.randn(len(p)) * sigma\n",
    "        x += p\n",
    "    return x.copy()"
   ]
  },
  {
   "cell_type": "code",
   "execution_count": 10,
   "metadata": {
    "collapsed": true
   },
   "outputs": [],
   "source": [
    "minibatch = 0.1 # using 10% of the original data to compute gradient\n",
    "gradU_data_SGHMC = functools.partial(gradU_data, minibatch)\n",
    "gradU_c_data_SGHMC = functools.partial(gradU_c_data, minibatch)\n",
    "\n",
    "V = 1./minibatch\n",
    "etaSGHMC = (0.001)**2\n",
    "alpha = 0.01\n",
    "L = 50\n",
    "\n",
    "b = np.array([-3., 1])"
   ]
  },
  {
   "cell_type": "code",
   "execution_count": 11,
   "metadata": {
    "collapsed": false
   },
   "outputs": [
    {
     "name": "stdout",
     "output_type": "stream",
     "text": [
      "2 loops, best of 4: 60.6 ms per loop\n"
     ]
    }
   ],
   "source": [
    "%timeit -n2 -r4 sghmc_vectorNew(gradU_data_SGHMC, etaSGHMC, L, alpha, b.copy(), V) #original"
   ]
  },
  {
   "cell_type": "code",
   "execution_count": 13,
   "metadata": {
    "collapsed": false,
    "scrolled": true
   },
   "outputs": [
    {
     "name": "stdout",
     "output_type": "stream",
     "text": [
      "2 loops, best of 4: 25.2 ms per loop\n"
     ]
    }
   ],
   "source": [
    "%timeit -n2 -r4 sghmc_vectorNew(gradU_c_data_SGHMC, etaSGHMC, L, alpha, b.copy(), V) #using c++"
   ]
  },
  {
   "cell_type": "code",
   "execution_count": null,
   "metadata": {
    "collapsed": true
   },
   "outputs": [],
   "source": []
  },
  {
   "cell_type": "code",
   "execution_count": 14,
   "metadata": {
    "collapsed": true
   },
   "outputs": [],
   "source": [
    "nsample = 10000"
   ]
  },
  {
   "cell_type": "code",
   "execution_count": 17,
   "metadata": {
    "collapsed": false
   },
   "outputs": [
    {
     "name": "stdout",
     "output_type": "stream",
     "text": [
      "0 [-3.61018958  1.2578783 ]\n",
      "1000 [-24.38964471   0.47353668]\n",
      "2000 [-25.81916111   0.51922874]\n",
      "3000 [-25.47106667   0.52248046]\n",
      "4000 [-25.41379423   0.50854531]\n",
      "5000 [-26.3344808   0.5396695]\n",
      "6000 [-27.79829475   0.52736772]\n",
      "7000 [-28.88845833   0.57630714]\n",
      "8000 [-28.63478327   0.5843872 ]\n",
      "9000 [-28.40093254   0.57909346]\n",
      "CPU times: user 10min 6s, sys: 116 ms, total: 10min 6s\n",
      "Wall time: 10min 7s\n"
     ]
    }
   ],
   "source": [
    "%%time\n",
    "samples_original = []\n",
    "b = np.array([-1., 1])\n",
    "for i in range(nsample):\n",
    "    b = sghmc_vectorNew(gradU_data_SGHMC, etaSGHMC, L, alpha, b.copy(), V)\n",
    "    samples_original.append(b)\n",
    "    if i%1000 == 0:\n",
    "        print(i, b)"
   ]
  },
  {
   "cell_type": "code",
   "execution_count": 18,
   "metadata": {
    "collapsed": false,
    "scrolled": true
   },
   "outputs": [
    {
     "data": {
      "text/plain": [
       "[<matplotlib.lines.Line2D at 0x7f3329215da0>]"
      ]
     },
     "execution_count": 18,
     "metadata": {},
     "output_type": "execute_result"
    },
    {
     "data": {
      "image/png": "[encoded data removed]",
      "text/plain": [
       "<matplotlib.figure.Figure at 0x7f332a3b8a58>"
      ]
     },
     "metadata": {},
     "output_type": "display_data"
    }
   ],
   "source": [
    "samples_original = np.array(samples_original)\n",
    "plt.plot(samples_original[:,0])"
   ]
  },
  {
   "cell_type": "code",
   "execution_count": 19,
   "metadata": {
    "collapsed": false
   },
   "outputs": [
    {
     "data": {
      "text/plain": [
       "[<matplotlib.lines.Line2D at 0x7f332923a390>]"
      ]
     },
     "execution_count": 19,
     "metadata": {},
     "output_type": "execute_result"
    },
    {
     "data": {
      "image/png": "[encoded data removed]",
      "text/plain": [
       "<matplotlib.figure.Figure at 0x7f332a434780>"
      ]
     },
     "metadata": {},
     "output_type": "display_data"
    }
   ],
   "source": [
    "plt.plot(samples_original[:,1])"
   ]
  },
  {
   "cell_type": "code",
   "execution_count": 15,
   "metadata": {
    "collapsed": false
   },
   "outputs": [
    {
     "name": "stdout",
     "output_type": "stream",
     "text": [
      "CPU times: user 3min 51s, sys: 40 ms, total: 3min 51s\n",
      "Wall time: 3min 51s\n"
     ]
    }
   ],
   "source": [
    "%%time\n",
    "samplesSGHMC_c = []\n",
    "b = np.array([-1., 1])\n",
    "for i in range(nsample):\n",
    "    b = sghmc_vectorNew(gradU_c_data_SGHMC, etaSGHMC, L, alpha, b.copy(), V)\n",
    "    samplesSGHMC_c.append(b)"
   ]
  },
  {
   "cell_type": "code",
   "execution_count": null,
   "metadata": {
    "collapsed": true
   },
   "outputs": [],
   "source": []
  },
  {
   "cell_type": "code",
   "execution_count": 16,
   "metadata": {
    "collapsed": true
   },
   "outputs": [],
   "source": [
    "def hmc_vector(U, gradU, m, dt, nstep, x, MH):\n",
    "    p = np.random.randn(len(x)) * np.sqrt(m)\n",
    "    oldX = x.copy()\n",
    "    oldEnergy = 0.5 * (1./m) * p.dot(p)  + U(x)\n",
    "    for i in range(nstep):\n",
    "        p -= gradU(x) * dt/2.\n",
    "        x +=  1./m * p * dt\n",
    "        p -= gradU(x) * dt/2.\n",
    "    newEnergy = 0.5 * (1./m) * p.dot(p)  + U(x)\n",
    "    \n",
    "    if MH and np.random.random() > np.exp(oldEnergy - newEnergy): # Metropolis-Hastings\n",
    "        x = oldX.copy()\n",
    "    return x.copy()"
   ]
  },
  {
   "cell_type": "code",
   "execution_count": 17,
   "metadata": {
    "collapsed": true
   },
   "outputs": [],
   "source": [
    "minibatch = 1.\n",
    "gradU_c_data_HMC = functools.partial(gradU_c_data, minibatch)\n",
    "\n",
    "nsample = 10000\n",
    "m = 1.\n",
    "dt = 0.001\n",
    "nstep = 50\n",
    "MH=False"
   ]
  },
  {
   "cell_type": "code",
   "execution_count": 18,
   "metadata": {
    "collapsed": false
   },
   "outputs": [
    {
     "name": "stdout",
     "output_type": "stream",
     "text": [
      "CPU times: user 8min 34s, sys: 228 ms, total: 8min 34s\n",
      "Wall time: 8min 34s\n"
     ]
    }
   ],
   "source": [
    "%%time\n",
    "samplesHMC_c = []\n",
    "b = np.array([-1.,1.])\n",
    "for i in range(nsample):\n",
    "    b = hmc_vector( U_c_data, gradU_c_data_HMC, m, dt, nstep, b.copy(), MH )\n",
    "    samplesHMC_c.append(b)"
   ]
  },
  {
   "cell_type": "code",
   "execution_count": null,
   "metadata": {
    "collapsed": true
   },
   "outputs": [],
   "source": []
  },
  {
   "cell_type": "code",
   "execution_count": 15,
   "metadata": {
    "collapsed": false
   },
   "outputs": [
    {
     "data": {
      "text/plain": [
       "[<matplotlib.lines.Line2D at 0x7f33292fec50>]"
      ]
     },
     "execution_count": 15,
     "metadata": {},
     "output_type": "execute_result"
    },
    {
     "data": {
      "image/png": "[encoded data removed]",
      "text/plain": [
       "<matplotlib.figure.Figure at 0x7f332a465400>"
      ]
     },
     "metadata": {},
     "output_type": "display_data"
    }
   ],
   "source": [
    "samplesSGHMC_c = np.array(samplesSGHMC_c)\n",
    "plt.plot(samplesSGHMC_c[:,0])"
   ]
  },
  {
   "cell_type": "code",
   "execution_count": 16,
   "metadata": {
    "collapsed": false
   },
   "outputs": [
    {
     "data": {
      "text/plain": [
       "[<matplotlib.lines.Line2D at 0x7f332a3f8588>]"
      ]
     },
     "execution_count": 16,
     "metadata": {},
     "output_type": "execute_result"
    },
    {
     "data": {
      "image/png": "[encoded data removed]",
      "text/plain": [
       "<matplotlib.figure.Figure at 0x7f332a4655f8>"
      ]
     },
     "metadata": {},
     "output_type": "display_data"
    }
   ],
   "source": [
    "plt.plot(samplesSGHMC_c[:,1])"
   ]
  }
 ],
 "metadata": {
  "kernelspec": {
   "display_name": "Python 3",
   "language": "python",
   "name": "python3"
  },
  "language_info": {
   "codemirror_mode": {
    "name": "ipython",
    "version": 3
   },
   "file_extension": ".py",
   "mimetype": "text/x-python",
   "name": "python",
   "nbconvert_exporter": "python",
   "pygments_lexer": "ipython3",
   "version": "3.5.2"
  }
 },
 "nbformat": 4,
 "nbformat_minor": 2
}
