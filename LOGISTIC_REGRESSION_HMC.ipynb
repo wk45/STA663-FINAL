{
 "cells": [
  {
   "cell_type": "code",
   "execution_count": 37,
   "metadata": {
    "collapsed": false
   },
   "outputs": [],
   "source": [
    "import numpy as np\n",
    "import matplotlib.pyplot as plt\n",
    "import scipy.stats\n",
    "import pandas as pd"
   ]
  },
  {
   "cell_type": "code",
   "execution_count": 39,
   "metadata": {
    "collapsed": false,
    "scrolled": true
   },
   "outputs": [],
   "source": [
    "data = pd.read_csv('wpbc.data', header=None)"
   ]
  },
  {
   "cell_type": "code",
   "execution_count": null,
   "metadata": {
    "collapsed": true
   },
   "outputs": [],
   "source": [
    "y = (data[1] == \"N\").astype(np.float64)\n",
    "X = np.array(data[[2,3,4,5,6]], np.float64)\n",
    "XX = X/np.mean(X,0)\n",
    "Sigma_beta = np.eye(5).astype(np.float64)"
   ]
  },
  {
   "cell_type": "code",
   "execution_count": 278,
   "metadata": {
    "collapsed": false
   },
   "outputs": [],
   "source": [
    "def U(theta, X, y, Sigma_beta):\n",
    "    a = 0\n",
    "    for i in range(len(y)):\n",
    "        a += (X[i] @ theta * y[i] - np.log(1+np.exp(X[i] @ theta)))\n",
    "    return -a + 0.5 * theta.T @ np.linalg.inv(Sigma_beta) @ theta"
   ]
  },
  {
   "cell_type": "code",
   "execution_count": 616,
   "metadata": {
    "collapsed": false
   },
   "outputs": [],
   "source": [
    "def gradU(theta, X, y, Sigma_beta):\n",
    "    a = 0\n",
    "    for i in range(len(y)):\n",
    "        a += (X[i] * y[i] - (X[i] * np.exp(X[i] @ theta)) / (1 + np.exp(X[i] @ theta)))\n",
    "    return -a + np.linalg.inv(Sigma_beta) @ theta"
   ]
  },
  {
   "cell_type": "code",
   "execution_count": 623,
   "metadata": {
    "collapsed": false
   },
   "outputs": [],
   "source": [
    "bb = np.array([0,0,0,0,0]).astype(np.float64)"
   ]
  },
  {
   "cell_type": "code",
   "execution_count": 625,
   "metadata": {
    "collapsed": true
   },
   "outputs": [],
   "source": [
    "def hmc_vector(U, gradU, m, dt, nstep, x, X, y, Sigma_beta):\n",
    "    mean = np.zeros_like(x)\n",
    "    p = np.random.multivariate_normal(mean, m)\n",
    "    oldX = x.copy()\n",
    "    oldEnergy = 0.5 * p.dot(np.linalg.solve(m, p))  + U(x, X, y, Sigma_beta)\n",
    "    for i in range(nstep):\n",
    "        p -= gradU(x, X, y, Sigma_beta) * dt/2.\n",
    "        x += np.linalg.solve(m, p) * dt\n",
    "        p -= gradU(x, X, y, Sigma_beta) * dt/2.\n",
    "    newEnergy = 0.5 * p.dot(np.linalg.solve(m, p))  + U(x, X, y, Sigma_beta)\n",
    "    if np.random.random() > np.exp(oldEnergy - newEnergy): # Metropolis-Hastings\n",
    "        x = oldX.copy()\n",
    "    return x.copy()"
   ]
  },
  {
   "cell_type": "code",
   "execution_count": 636,
   "metadata": {
    "collapsed": true
   },
   "outputs": [],
   "source": [
    "nsample = 8000\n",
    "m = np.eye(5)\n",
    "dt = 0.1\n",
    "nstep = 10"
   ]
  },
  {
   "cell_type": "code",
   "execution_count": null,
   "metadata": {
    "collapsed": true
   },
   "outputs": [],
   "source": [
    "samples = []\n",
    "bb = np.zeros_like(bb)\n",
    "for i in range(nsample):\n",
    "    bb = hmc_vector(U, gradU, m, dt, nstep, bb, XX, y, Sigma_beta)\n",
    "    print(i)\n",
    "    samples.append(bb)"
   ]
  },
  {
   "cell_type": "code",
   "execution_count": 640,
   "metadata": {
    "collapsed": false
   },
   "outputs": [
    {
     "data": {
      "text/plain": [
       "array([ 1.35263749, -0.2070946 ,  0.96616421, -0.2160136 , -0.41400247])"
      ]
     },
     "execution_count": 640,
     "metadata": {},
     "output_type": "execute_result"
    }
   ],
   "source": [
    "samples = np.array(samples)\n",
    "samples.mean(axis=0)"
   ]
  },
  {
   "cell_type": "code",
   "execution_count": 2,
   "metadata": {
    "collapsed": true
   },
   "outputs": [],
   "source": [
    "%load_ext rpy2.ipython"
   ]
  },
  {
   "cell_type": "code",
   "execution_count": null,
   "metadata": {
    "collapsed": true
   },
   "outputs": [],
   "source": [
    "%%R -i XX,y\n",
    "\n",
    "library(R2jags)\n",
    "dat = read.csv('wpbc.csv',header=F)\n",
    "\n",
    "\n",
    "jags_data = list(Y = y,\n",
    "                 X = XX,\n",
    "                 n = length(y),\n",
    "                 p = ncol(XX))\n",
    "\n",
    "jags.model = \"model {\n",
    "  \n",
    "  for (i in 1:n) {\n",
    "    logit(mu[i]) = inprod(X[i,], theta)\n",
    "    Y[i] ~ dbern(mu[i])\n",
    "  }\n",
    "  \n",
    "  for (j in 1:(p)){\n",
    "    theta[j] ~ dnorm(0,1)\n",
    "  }\n",
    "}\n",
    "\"\n",
    "\n",
    "parameters = \"theta\"\n",
    "\n",
    "jags_sim = jags(jags_data, inits=NULL, \n",
    "                parameters.to.save=parameters,\n",
    "                model.file=textConnection(jags.model),\n",
    "                n.iter=10000)\n",
    "\n",
    "jags_sim"
   ]
  },
  {
   "cell_type": "markdown",
   "metadata": {
    "collapsed": false
   },
   "source": [
    "```\n",
    "> jags_sim\n",
    "Inference for Bugs model at \"9\", fit using jags,\n",
    " 3 chains, each with 10000 iterations (first 5000 discarded), n.thin = 5\n",
    " n.sims = 3000 iterations saved\n",
    "         mu.vect sd.vect    2.5%     25%     50%     75%   97.5%  Rhat\n",
    "theta[1]   1.347   0.289   0.808   1.155   1.340   1.532   1.959 1.002\n",
    "theta[2]  -0.241   0.829  -1.868  -0.804  -0.240   0.299   1.382 1.001\n",
    "theta[3]   0.973   0.551  -0.089   0.588   0.962   1.324   2.091 1.002\n",
    "theta[4]  -0.220   0.841  -1.831  -0.777  -0.237   0.345   1.436 1.003\n",
    "theta[5]  -0.394   0.629  -1.662  -0.810  -0.399   0.036   0.831 1.002\n",
    "deviance 186.465   2.588 183.346 184.731 185.909 187.563 192.821 1.001\n",
    "         n.eff\n",
    "theta[1]  1800\n",
    "theta[2]  3000\n",
    "theta[3]  1500\n",
    "theta[4]   800\n",
    "theta[5]  1900\n",
    "deviance  3000\n",
    "```"
   ]
  }
 ],
 "metadata": {
  "kernelspec": {
   "display_name": "Python 3",
   "language": "python",
   "name": "python3"
  },
  "language_info": {
   "codemirror_mode": {
    "name": "ipython",
    "version": 3
   },
   "file_extension": ".py",
   "mimetype": "text/x-python",
   "name": "python",
   "nbconvert_exporter": "python",
   "pygments_lexer": "ipython3",
   "version": "3.5.2"
  }
 },
 "nbformat": 4,
 "nbformat_minor": 2
}
